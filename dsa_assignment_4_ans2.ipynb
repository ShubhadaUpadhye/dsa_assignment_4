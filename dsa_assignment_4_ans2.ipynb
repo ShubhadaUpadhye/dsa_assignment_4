{
 "cells": [
  {
   "cell_type": "code",
   "execution_count": null,
   "metadata": {},
   "outputs": [],
   "source": [
    "#ans 2)\n",
    "num1 = [1,2,3]\n",
    "num2 = [2,4,6]\n",
    "num3=[[],[]]\n",
    "\n",
    "for i in num1:\n",
    "    if num1.count(i)==1 and i not in num2:\n",
    "        num3[0].append(i)\n",
    "for j in num2:\n",
    "    if num2.count(j)==1 and j not in num1:\n",
    "        num3[1].append(j)\n",
    "print(num3)\n",
    "\n",
    "## time_complexity is O(n)"
   ]
  }
 ],
 "metadata": {
  "kernelspec": {
   "display_name": "Python 3",
   "language": "python",
   "name": "python3"
  },
  "language_info": {
   "codemirror_mode": {
    "name": "ipython",
    "version": 3
   },
   "file_extension": ".py",
   "mimetype": "text/x-python",
   "name": "python",
   "nbconvert_exporter": "python",
   "pygments_lexer": "ipython3",
   "version": "3.8.5"
  }
 },
 "nbformat": 4,
 "nbformat_minor": 4
}
