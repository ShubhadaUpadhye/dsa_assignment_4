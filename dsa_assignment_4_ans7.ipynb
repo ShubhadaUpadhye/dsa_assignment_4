{
 "cells": [
  {
   "cell_type": "code",
   "execution_count": null,
   "metadata": {},
   "outputs": [],
   "source": [
    "# ans 7)\n",
    "m=[[1,1,0],[1,1,0],[0,0,0]]\n",
    "ops=[[2,2],[3,3]]\n",
    "n=[]\n",
    "ops=set(sum(ops,[]))\n",
    "\n",
    "for i in m:\n",
    "    for j in i:\n",
    "        a=list(map(lambda j:j+1,i))\n",
    "    n.append(a)\n",
    "n=sum(n,[])\n",
    "print(n.count(max(n)))"
    #time_complexity is O(n^2)
   ]
  }
 ],
 "metadata": {
  "kernelspec": {
   "display_name": "Python 3",
   "language": "python",
   "name": "python3"
  },
  "language_info": {
   "codemirror_mode": {
    "name": "ipython",
    "version": 3
   },
   "file_extension": ".py",
   "mimetype": "text/x-python",
   "name": "python",
   "nbconvert_exporter": "python",
   "pygments_lexer": "ipython3",
   "version": "3.8.5"
  }
 },
 "nbformat": 4,
 "nbformat_minor": 4
}
