{
 "cells": [
  {
   "cell_type": "code",
   "execution_count": null,
   "metadata": {},
   "outputs": [],
   "source": [
    "#ans_5)\n",
    "n = 11\n",
    "steps=0\n",
    "for i in range(1,n):\n",
    "    steps =steps+1\n",
    "    if n<steps and n>0:\n",
    "        print(steps-1)\n",
    "        break\n",
    "    else:\n",
    "        if steps==n:\n",
    "            print(steps)\n",
    "            break\n",
    "    n = n - i\n",
    "    \n",
    "## time_complexity is O(n)"
   ]
  }
 ],
 "metadata": {
  "kernelspec": {
   "display_name": "Python 3",
   "language": "python",
   "name": "python3"
  },
  "language_info": {
   "codemirror_mode": {
    "name": "ipython",
    "version": 3
   },
   "file_extension": ".py",
   "mimetype": "text/x-python",
   "name": "python",
   "nbconvert_exporter": "python",
   "pygments_lexer": "ipython3",
   "version": "3.8.5"
  }
 },
 "nbformat": 4,
 "nbformat_minor": 4
}
