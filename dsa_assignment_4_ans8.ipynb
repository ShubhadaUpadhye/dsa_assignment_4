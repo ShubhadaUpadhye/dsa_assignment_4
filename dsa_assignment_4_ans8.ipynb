{
 "cells": [
  {
   "cell_type": "code",
   "execution_count": null,
   "metadata": {},
   "outputs": [],
   "source": [
    "# ans_8)\n",
    "nums = [2,5,1,3,4,7]\n",
    "nums1=[]\n",
    "n=3\n",
    "for i in range(n,len(nums)):\n",
    "    nums1.append(nums[n])\n",
    "    nums.remove(nums[n])\n",
    "i=1\n",
    "while i<(2*n):\n",
    "    nums.insert(i,nums1[0])\n",
    "    nums1.remove(nums1[0])\n",
    "    i=i+2\n",
    "print(nums)\n",
    "\n",
    "#time_complexity is O(n)"
   ]
  }
 ],
 "metadata": {
  "kernelspec": {
   "display_name": "Python 3",
   "language": "python",
   "name": "python3"
  },
  "language_info": {
   "codemirror_mode": {
    "name": "ipython",
    "version": 3
   },
   "file_extension": ".py",
   "mimetype": "text/x-python",
   "name": "python",
   "nbconvert_exporter": "python",
   "pygments_lexer": "ipython3",
   "version": "3.8.5"
  }
 },
 "nbformat": 4,
 "nbformat_minor": 4
}
