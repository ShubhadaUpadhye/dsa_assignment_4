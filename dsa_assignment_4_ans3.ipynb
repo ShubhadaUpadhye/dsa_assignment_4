{
 "cells": [
  {
   "cell_type": "code",
   "execution_count": null,
   "metadata": {},
   "outputs": [],
   "source": [
    "#ans 3)\n",
    "a=[[1,2,3],[4,5,6],[7,8,9]]\n",
    "n=len(a)\n",
    "k=0\n",
    "j=0\n",
    "while k<n-1:\n",
    "    while j<n:\n",
    "        a[j][k],a[k][j]=a[k][j],a[j][k]\n",
    "        j=j+1\n",
    "    k=k+1\n",
    "    j=n-k\n",
    "print(a)\n",
    "\n",
    "# time_complexity is O(n^2)"
   ]
  }
 ],
 "metadata": {
  "kernelspec": {
   "display_name": "Python 3",
   "language": "python",
   "name": "python3"
  },
  "language_info": {
   "codemirror_mode": {
    "name": "ipython",
    "version": 3
   },
   "file_extension": ".py",
   "mimetype": "text/x-python",
   "name": "python",
   "nbconvert_exporter": "python",
   "pygments_lexer": "ipython3",
   "version": "3.8.5"
  }
 },
 "nbformat": 4,
 "nbformat_minor": 4
}
