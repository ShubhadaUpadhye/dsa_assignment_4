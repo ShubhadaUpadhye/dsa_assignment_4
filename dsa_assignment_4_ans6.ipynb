{
 "cells": [
  {
   "cell_type": "code",
   "execution_count": null,
   "metadata": {},
   "outputs": [],
   "source": [
    "# ans 6)\n",
    "nums=[-4,-1,0,3,10]\n",
    "nums=list(map(lambda x: x**2,nums))\n",
    "nums.sort()\n",
    "print(nums)\n",
    "\n",
    "#time_complexity is O(n log n)"
   ]
  }
 ],
 "metadata": {
  "kernelspec": {
   "display_name": "Python 3",
   "language": "python",
   "name": "python3"
  },
  "language_info": {
   "codemirror_mode": {
    "name": "ipython",
    "version": 3
   },
   "file_extension": ".py",
   "mimetype": "text/x-python",
   "name": "python",
   "nbconvert_exporter": "python",
   "pygments_lexer": "ipython3",
   "version": "3.8.5"
  }
 },
 "nbformat": 4,
 "nbformat_minor": 4
}
